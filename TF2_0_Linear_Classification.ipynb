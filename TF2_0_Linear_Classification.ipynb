{
  "nbformat": 4,
  "nbformat_minor": 0,
  "metadata": {
    "colab": {
      "provenance": [],
      "collapsed_sections": [
        "oPIyjUFmKhql",
        "9C1uC2yk6i8Z",
        "XPjgUDDHB9b0"
      ],
      "authorship_tag": "ABX9TyNCFlulgHUul78r20u33NMQ",
      "include_colab_link": true
    },
    "kernelspec": {
      "name": "python3",
      "display_name": "Python 3"
    },
    "language_info": {
      "name": "python"
    }
  },
  "cells": [
    {
      "cell_type": "markdown",
      "metadata": {
        "id": "view-in-github",
        "colab_type": "text"
      },
      "source": [
        "<a href=\"https://colab.research.google.com/github/ianravisingh/Tensorflow-2.0/blob/main/TF2_0_Linear_Classification.ipynb\" target=\"_parent\"><img src=\"https://colab.research.google.com/assets/colab-badge.svg\" alt=\"Open In Colab\"/></a>"
      ]
    },
    {
      "cell_type": "markdown",
      "source": [
        "## Part 1: Loading & Training"
      ],
      "metadata": {
        "id": "oPIyjUFmKhql"
      }
    },
    {
      "cell_type": "code",
      "execution_count": 1,
      "metadata": {
        "colab": {
          "base_uri": "https://localhost:8080/"
        },
        "id": "loI7dCnPegiZ",
        "outputId": "24583ed5-723d-4d5d-b691-753f40aba656"
      },
      "outputs": [
        {
          "output_type": "stream",
          "name": "stdout",
          "text": [
            "2.15.0\n"
          ]
        }
      ],
      "source": [
        "import tensorflow as tf\n",
        "print(tf.__version__)"
      ]
    },
    {
      "cell_type": "code",
      "source": [
        "# load in the data\n",
        "from sklearn.datasets import load_breast_cancer"
      ],
      "metadata": {
        "id": "XgfKioAle15F"
      },
      "execution_count": 2,
      "outputs": []
    },
    {
      "cell_type": "code",
      "source": [
        "# load the data\n",
        "data = load_breast_cancer()"
      ],
      "metadata": {
        "id": "Z4B-zmwrfB4e"
      },
      "execution_count": 3,
      "outputs": []
    },
    {
      "cell_type": "code",
      "source": [
        "# check the type of data\n",
        "type(data)"
      ],
      "metadata": {
        "colab": {
          "base_uri": "https://localhost:8080/"
        },
        "id": "duJ6dk8afQy-",
        "outputId": "c6765b5c-62fc-47f9-a8ef-4f1968d0ff79"
      },
      "execution_count": 4,
      "outputs": [
        {
          "output_type": "execute_result",
          "data": {
            "text/plain": [
              "sklearn.utils._bunch.Bunch"
            ]
          },
          "metadata": {},
          "execution_count": 4
        }
      ]
    },
    {
      "cell_type": "code",
      "source": [
        "# note: it is a Bunch object\n",
        "# this basically acts like a dictionary where you can treat the keys like attributes\n",
        "data.keys()"
      ],
      "metadata": {
        "colab": {
          "base_uri": "https://localhost:8080/"
        },
        "id": "QeOB7WlsfVe0",
        "outputId": "3c669cb5-523b-4e22-fa1a-99f85f92f2aa"
      },
      "execution_count": 5,
      "outputs": [
        {
          "output_type": "execute_result",
          "data": {
            "text/plain": [
              "dict_keys(['data', 'target', 'frame', 'target_names', 'DESCR', 'feature_names', 'filename', 'data_module'])"
            ]
          },
          "metadata": {},
          "execution_count": 5
        }
      ]
    },
    {
      "cell_type": "code",
      "source": [
        "data.data.shape"
      ],
      "metadata": {
        "colab": {
          "base_uri": "https://localhost:8080/"
        },
        "id": "Do2BNeUCfjkS",
        "outputId": "e6e2d43f-098e-462f-c7c4-ba1764dd77e3"
      },
      "execution_count": 6,
      "outputs": [
        {
          "output_type": "execute_result",
          "data": {
            "text/plain": [
              "(569, 30)"
            ]
          },
          "metadata": {},
          "execution_count": 6
        }
      ]
    },
    {
      "cell_type": "code",
      "source": [
        "data.target"
      ],
      "metadata": {
        "colab": {
          "base_uri": "https://localhost:8080/"
        },
        "id": "NJcToVqqfprh",
        "outputId": "459aff5c-0026-49e6-8054-0a81ebf65e29"
      },
      "execution_count": 7,
      "outputs": [
        {
          "output_type": "execute_result",
          "data": {
            "text/plain": [
              "array([0, 0, 0, 0, 0, 0, 0, 0, 0, 0, 0, 0, 0, 0, 0, 0, 0, 0, 0, 1, 1, 1,\n",
              "       0, 0, 0, 0, 0, 0, 0, 0, 0, 0, 0, 0, 0, 0, 0, 1, 0, 0, 0, 0, 0, 0,\n",
              "       0, 0, 1, 0, 1, 1, 1, 1, 1, 0, 0, 1, 0, 0, 1, 1, 1, 1, 0, 1, 0, 0,\n",
              "       1, 1, 1, 1, 0, 1, 0, 0, 1, 0, 1, 0, 0, 1, 1, 1, 0, 0, 1, 0, 0, 0,\n",
              "       1, 1, 1, 0, 1, 1, 0, 0, 1, 1, 1, 0, 0, 1, 1, 1, 1, 0, 1, 1, 0, 1,\n",
              "       1, 1, 1, 1, 1, 1, 1, 0, 0, 0, 1, 0, 0, 1, 1, 1, 0, 0, 1, 0, 1, 0,\n",
              "       0, 1, 0, 0, 1, 1, 0, 1, 1, 0, 1, 1, 1, 1, 0, 1, 1, 1, 1, 1, 1, 1,\n",
              "       1, 1, 0, 1, 1, 1, 1, 0, 0, 1, 0, 1, 1, 0, 0, 1, 1, 0, 0, 1, 1, 1,\n",
              "       1, 0, 1, 1, 0, 0, 0, 1, 0, 1, 0, 1, 1, 1, 0, 1, 1, 0, 0, 1, 0, 0,\n",
              "       0, 0, 1, 0, 0, 0, 1, 0, 1, 0, 1, 1, 0, 1, 0, 0, 0, 0, 1, 1, 0, 0,\n",
              "       1, 1, 1, 0, 1, 1, 1, 1, 1, 0, 0, 1, 1, 0, 1, 1, 0, 0, 1, 0, 1, 1,\n",
              "       1, 1, 0, 1, 1, 1, 1, 1, 0, 1, 0, 0, 0, 0, 0, 0, 0, 0, 0, 0, 0, 0,\n",
              "       0, 0, 1, 1, 1, 1, 1, 1, 0, 1, 0, 1, 1, 0, 1, 1, 0, 1, 0, 0, 1, 1,\n",
              "       1, 1, 1, 1, 1, 1, 1, 1, 1, 1, 1, 0, 1, 1, 0, 1, 0, 1, 1, 1, 1, 1,\n",
              "       1, 1, 1, 1, 1, 1, 1, 1, 1, 0, 1, 1, 1, 0, 1, 0, 1, 1, 1, 1, 0, 0,\n",
              "       0, 1, 1, 1, 1, 0, 1, 0, 1, 0, 1, 1, 1, 0, 1, 1, 1, 1, 1, 1, 1, 0,\n",
              "       0, 0, 1, 1, 1, 1, 1, 1, 1, 1, 1, 1, 1, 0, 0, 1, 0, 0, 0, 1, 0, 0,\n",
              "       1, 1, 1, 1, 1, 0, 1, 1, 1, 1, 1, 0, 1, 1, 1, 0, 1, 1, 0, 0, 1, 1,\n",
              "       1, 1, 1, 1, 0, 1, 1, 1, 1, 1, 1, 1, 0, 1, 1, 1, 1, 1, 0, 1, 1, 0,\n",
              "       1, 1, 1, 1, 1, 1, 1, 1, 1, 1, 1, 1, 0, 1, 0, 0, 1, 0, 1, 1, 1, 1,\n",
              "       1, 0, 1, 1, 0, 1, 0, 1, 1, 0, 1, 0, 1, 1, 1, 1, 1, 1, 1, 1, 0, 0,\n",
              "       1, 1, 1, 1, 1, 1, 0, 1, 1, 1, 1, 1, 1, 1, 1, 1, 1, 0, 1, 1, 1, 1,\n",
              "       1, 1, 1, 0, 1, 0, 1, 1, 0, 1, 1, 1, 1, 1, 0, 0, 1, 0, 1, 0, 1, 1,\n",
              "       1, 1, 1, 0, 1, 1, 0, 1, 0, 1, 0, 0, 1, 1, 1, 0, 1, 1, 1, 1, 1, 1,\n",
              "       1, 1, 1, 1, 1, 0, 1, 0, 0, 1, 1, 1, 1, 1, 1, 1, 1, 1, 1, 1, 1, 1,\n",
              "       1, 1, 1, 1, 1, 1, 1, 1, 1, 1, 1, 1, 0, 0, 0, 0, 0, 0, 1])"
            ]
          },
          "metadata": {},
          "execution_count": 7
        }
      ]
    },
    {
      "cell_type": "code",
      "source": [
        "data.target_names"
      ],
      "metadata": {
        "colab": {
          "base_uri": "https://localhost:8080/"
        },
        "id": "JP4foVU2fyOM",
        "outputId": "6e2bb403-3da4-4329-d6f4-6955b0ff92da"
      },
      "execution_count": 8,
      "outputs": [
        {
          "output_type": "execute_result",
          "data": {
            "text/plain": [
              "array(['malignant', 'benign'], dtype='<U9')"
            ]
          },
          "metadata": {},
          "execution_count": 8
        }
      ]
    },
    {
      "cell_type": "code",
      "source": [
        "data.target.shape"
      ],
      "metadata": {
        "colab": {
          "base_uri": "https://localhost:8080/"
        },
        "id": "2VJJPn2Kf1WJ",
        "outputId": "a48c05e1-f1f8-4469-fad6-16c42dfdb7c5"
      },
      "execution_count": 9,
      "outputs": [
        {
          "output_type": "execute_result",
          "data": {
            "text/plain": [
              "(569,)"
            ]
          },
          "metadata": {},
          "execution_count": 9
        }
      ]
    },
    {
      "cell_type": "code",
      "source": [
        "data.feature_names"
      ],
      "metadata": {
        "colab": {
          "base_uri": "https://localhost:8080/"
        },
        "id": "mI6KPpgEf6h8",
        "outputId": "d7db93e1-ba9b-49d9-dc1f-b97b5c9d31e1"
      },
      "execution_count": 10,
      "outputs": [
        {
          "output_type": "execute_result",
          "data": {
            "text/plain": [
              "array(['mean radius', 'mean texture', 'mean perimeter', 'mean area',\n",
              "       'mean smoothness', 'mean compactness', 'mean concavity',\n",
              "       'mean concave points', 'mean symmetry', 'mean fractal dimension',\n",
              "       'radius error', 'texture error', 'perimeter error', 'area error',\n",
              "       'smoothness error', 'compactness error', 'concavity error',\n",
              "       'concave points error', 'symmetry error',\n",
              "       'fractal dimension error', 'worst radius', 'worst texture',\n",
              "       'worst perimeter', 'worst area', 'worst smoothness',\n",
              "       'worst compactness', 'worst concavity', 'worst concave points',\n",
              "       'worst symmetry', 'worst fractal dimension'], dtype='<U23')"
            ]
          },
          "metadata": {},
          "execution_count": 10
        }
      ]
    },
    {
      "cell_type": "code",
      "source": [
        "from sklearn.model_selection import train_test_split"
      ],
      "metadata": {
        "id": "a04XRNNBf_DQ"
      },
      "execution_count": 11,
      "outputs": []
    },
    {
      "cell_type": "code",
      "source": [
        "X_train, X_test, y_train, y_test = train_test_split(data.data, data.target, test_size=0.33)\n",
        "N, D = X_train.shape"
      ],
      "metadata": {
        "id": "wrBGLQPWgGvY"
      },
      "execution_count": 12,
      "outputs": []
    },
    {
      "cell_type": "code",
      "source": [
        "# Scaling the data\n",
        "from sklearn.preprocessing import StandardScaler\n",
        "\n",
        "scaler = StandardScaler()\n",
        "X_train = scaler.fit_transform(X_train)\n",
        "X_test = scaler.transform(X_test)"
      ],
      "metadata": {
        "id": "icrkgcv1geB7"
      },
      "execution_count": 13,
      "outputs": []
    },
    {
      "cell_type": "code",
      "source": [
        "model = tf.keras.models.Sequential([\n",
        "    tf.keras.layers.Input(shape=(D,)),\n",
        "    tf.keras.layers.Dense(1, activation='sigmoid')\n",
        "])\n",
        "\n",
        "# Alternatively, you can do:\n",
        "# model = tf.keras.models.Sequential()\n",
        "# model.add(tf.keras.layers.Dense(1, input_shape=(D,), activation='sigmoid'))\n",
        "\n",
        "model.compile(optimizer='adam',\n",
        "              loss='binary_crossentropy',\n",
        "              metrics=['accuracy'])\n",
        "\n",
        "# train the model\n",
        "r = model.fit(X_train, y_train, validation_data=(X_test, y_test), epochs=100)\n",
        "\n",
        "# evaluate the model\n",
        "print('Train score: ', model.evaluate(X_train, y_train))\n",
        "print('Test score: ', model.evaluate(X_test, y_test))"
      ],
      "metadata": {
        "colab": {
          "base_uri": "https://localhost:8080/"
        },
        "id": "uaRBxSyTgfBV",
        "outputId": "a7e4dcfd-a4de-4563-80a1-fdb3dd98ae18"
      },
      "execution_count": 14,
      "outputs": [
        {
          "output_type": "stream",
          "name": "stdout",
          "text": [
            "Epoch 1/100\n",
            "12/12 [==============================] - 1s 24ms/step - loss: 1.0095 - accuracy: 0.3176 - val_loss: 0.9825 - val_accuracy: 0.3191\n",
            "Epoch 2/100\n",
            "12/12 [==============================] - 0s 5ms/step - loss: 0.9116 - accuracy: 0.3753 - val_loss: 0.8876 - val_accuracy: 0.4043\n",
            "Epoch 3/100\n",
            "12/12 [==============================] - 0s 6ms/step - loss: 0.8245 - accuracy: 0.4488 - val_loss: 0.8023 - val_accuracy: 0.5053\n",
            "Epoch 4/100\n",
            "12/12 [==============================] - 0s 6ms/step - loss: 0.7472 - accuracy: 0.5118 - val_loss: 0.7276 - val_accuracy: 0.5532\n",
            "Epoch 5/100\n",
            "12/12 [==============================] - 0s 6ms/step - loss: 0.6806 - accuracy: 0.5879 - val_loss: 0.6629 - val_accuracy: 0.5904\n",
            "Epoch 6/100\n",
            "12/12 [==============================] - 0s 6ms/step - loss: 0.6229 - accuracy: 0.6588 - val_loss: 0.6077 - val_accuracy: 0.6809\n",
            "Epoch 7/100\n",
            "12/12 [==============================] - 0s 5ms/step - loss: 0.5733 - accuracy: 0.7244 - val_loss: 0.5611 - val_accuracy: 0.7340\n",
            "Epoch 8/100\n",
            "12/12 [==============================] - 0s 6ms/step - loss: 0.5312 - accuracy: 0.7559 - val_loss: 0.5213 - val_accuracy: 0.7872\n",
            "Epoch 9/100\n",
            "12/12 [==============================] - 0s 6ms/step - loss: 0.4946 - accuracy: 0.8084 - val_loss: 0.4874 - val_accuracy: 0.8085\n",
            "Epoch 10/100\n",
            "12/12 [==============================] - 0s 6ms/step - loss: 0.4631 - accuracy: 0.8294 - val_loss: 0.4578 - val_accuracy: 0.8032\n",
            "Epoch 11/100\n",
            "12/12 [==============================] - 0s 6ms/step - loss: 0.4358 - accuracy: 0.8425 - val_loss: 0.4319 - val_accuracy: 0.8351\n",
            "Epoch 12/100\n",
            "12/12 [==============================] - 0s 5ms/step - loss: 0.4109 - accuracy: 0.8740 - val_loss: 0.4097 - val_accuracy: 0.8617\n",
            "Epoch 13/100\n",
            "12/12 [==============================] - 0s 6ms/step - loss: 0.3896 - accuracy: 0.8871 - val_loss: 0.3898 - val_accuracy: 0.8723\n",
            "Epoch 14/100\n",
            "12/12 [==============================] - 0s 6ms/step - loss: 0.3703 - accuracy: 0.9003 - val_loss: 0.3723 - val_accuracy: 0.8777\n",
            "Epoch 15/100\n",
            "12/12 [==============================] - 0s 5ms/step - loss: 0.3531 - accuracy: 0.9081 - val_loss: 0.3566 - val_accuracy: 0.8830\n",
            "Epoch 16/100\n",
            "12/12 [==============================] - 0s 6ms/step - loss: 0.3376 - accuracy: 0.9213 - val_loss: 0.3424 - val_accuracy: 0.8936\n",
            "Epoch 17/100\n",
            "12/12 [==============================] - 0s 6ms/step - loss: 0.3236 - accuracy: 0.9265 - val_loss: 0.3294 - val_accuracy: 0.8936\n",
            "Epoch 18/100\n",
            "12/12 [==============================] - 0s 7ms/step - loss: 0.3107 - accuracy: 0.9344 - val_loss: 0.3177 - val_accuracy: 0.9043\n",
            "Epoch 19/100\n",
            "12/12 [==============================] - 0s 5ms/step - loss: 0.2988 - accuracy: 0.9370 - val_loss: 0.3071 - val_accuracy: 0.9096\n",
            "Epoch 20/100\n",
            "12/12 [==============================] - 0s 6ms/step - loss: 0.2881 - accuracy: 0.9370 - val_loss: 0.2973 - val_accuracy: 0.9149\n",
            "Epoch 21/100\n",
            "12/12 [==============================] - 0s 5ms/step - loss: 0.2781 - accuracy: 0.9396 - val_loss: 0.2883 - val_accuracy: 0.9255\n",
            "Epoch 22/100\n",
            "12/12 [==============================] - 0s 6ms/step - loss: 0.2688 - accuracy: 0.9449 - val_loss: 0.2801 - val_accuracy: 0.9255\n",
            "Epoch 23/100\n",
            "12/12 [==============================] - 0s 6ms/step - loss: 0.2603 - accuracy: 0.9475 - val_loss: 0.2723 - val_accuracy: 0.9309\n",
            "Epoch 24/100\n",
            "12/12 [==============================] - 0s 5ms/step - loss: 0.2523 - accuracy: 0.9501 - val_loss: 0.2652 - val_accuracy: 0.9309\n",
            "Epoch 25/100\n",
            "12/12 [==============================] - 0s 7ms/step - loss: 0.2447 - accuracy: 0.9528 - val_loss: 0.2586 - val_accuracy: 0.9309\n",
            "Epoch 26/100\n",
            "12/12 [==============================] - 0s 5ms/step - loss: 0.2381 - accuracy: 0.9528 - val_loss: 0.2523 - val_accuracy: 0.9309\n",
            "Epoch 27/100\n",
            "12/12 [==============================] - 0s 6ms/step - loss: 0.2313 - accuracy: 0.9528 - val_loss: 0.2464 - val_accuracy: 0.9362\n",
            "Epoch 28/100\n",
            "12/12 [==============================] - 0s 5ms/step - loss: 0.2252 - accuracy: 0.9528 - val_loss: 0.2409 - val_accuracy: 0.9362\n",
            "Epoch 29/100\n",
            "12/12 [==============================] - 0s 5ms/step - loss: 0.2195 - accuracy: 0.9528 - val_loss: 0.2358 - val_accuracy: 0.9362\n",
            "Epoch 30/100\n",
            "12/12 [==============================] - 0s 6ms/step - loss: 0.2141 - accuracy: 0.9528 - val_loss: 0.2309 - val_accuracy: 0.9362\n",
            "Epoch 31/100\n",
            "12/12 [==============================] - 0s 6ms/step - loss: 0.2088 - accuracy: 0.9528 - val_loss: 0.2264 - val_accuracy: 0.9415\n",
            "Epoch 32/100\n",
            "12/12 [==============================] - 0s 6ms/step - loss: 0.2039 - accuracy: 0.9554 - val_loss: 0.2221 - val_accuracy: 0.9415\n",
            "Epoch 33/100\n",
            "12/12 [==============================] - 0s 5ms/step - loss: 0.1993 - accuracy: 0.9554 - val_loss: 0.2181 - val_accuracy: 0.9415\n",
            "Epoch 34/100\n",
            "12/12 [==============================] - 0s 5ms/step - loss: 0.1951 - accuracy: 0.9554 - val_loss: 0.2142 - val_accuracy: 0.9468\n",
            "Epoch 35/100\n",
            "12/12 [==============================] - 0s 5ms/step - loss: 0.1909 - accuracy: 0.9554 - val_loss: 0.2104 - val_accuracy: 0.9468\n",
            "Epoch 36/100\n",
            "12/12 [==============================] - 0s 5ms/step - loss: 0.1868 - accuracy: 0.9554 - val_loss: 0.2070 - val_accuracy: 0.9468\n",
            "Epoch 37/100\n",
            "12/12 [==============================] - 0s 5ms/step - loss: 0.1833 - accuracy: 0.9580 - val_loss: 0.2037 - val_accuracy: 0.9468\n",
            "Epoch 38/100\n",
            "12/12 [==============================] - 0s 5ms/step - loss: 0.1795 - accuracy: 0.9580 - val_loss: 0.2006 - val_accuracy: 0.9468\n",
            "Epoch 39/100\n",
            "12/12 [==============================] - 0s 5ms/step - loss: 0.1761 - accuracy: 0.9580 - val_loss: 0.1975 - val_accuracy: 0.9468\n",
            "Epoch 40/100\n",
            "12/12 [==============================] - 0s 6ms/step - loss: 0.1729 - accuracy: 0.9606 - val_loss: 0.1946 - val_accuracy: 0.9521\n",
            "Epoch 41/100\n",
            "12/12 [==============================] - 0s 6ms/step - loss: 0.1697 - accuracy: 0.9606 - val_loss: 0.1920 - val_accuracy: 0.9574\n",
            "Epoch 42/100\n",
            "12/12 [==============================] - 0s 6ms/step - loss: 0.1667 - accuracy: 0.9633 - val_loss: 0.1894 - val_accuracy: 0.9574\n",
            "Epoch 43/100\n",
            "12/12 [==============================] - 0s 6ms/step - loss: 0.1639 - accuracy: 0.9633 - val_loss: 0.1869 - val_accuracy: 0.9574\n",
            "Epoch 44/100\n",
            "12/12 [==============================] - 0s 6ms/step - loss: 0.1611 - accuracy: 0.9633 - val_loss: 0.1846 - val_accuracy: 0.9574\n",
            "Epoch 45/100\n",
            "12/12 [==============================] - 0s 6ms/step - loss: 0.1586 - accuracy: 0.9659 - val_loss: 0.1823 - val_accuracy: 0.9574\n",
            "Epoch 46/100\n",
            "12/12 [==============================] - 0s 6ms/step - loss: 0.1560 - accuracy: 0.9659 - val_loss: 0.1800 - val_accuracy: 0.9574\n",
            "Epoch 47/100\n",
            "12/12 [==============================] - 0s 6ms/step - loss: 0.1536 - accuracy: 0.9659 - val_loss: 0.1780 - val_accuracy: 0.9574\n",
            "Epoch 48/100\n",
            "12/12 [==============================] - 0s 6ms/step - loss: 0.1513 - accuracy: 0.9659 - val_loss: 0.1759 - val_accuracy: 0.9574\n",
            "Epoch 49/100\n",
            "12/12 [==============================] - 0s 5ms/step - loss: 0.1491 - accuracy: 0.9659 - val_loss: 0.1740 - val_accuracy: 0.9574\n",
            "Epoch 50/100\n",
            "12/12 [==============================] - 0s 5ms/step - loss: 0.1469 - accuracy: 0.9659 - val_loss: 0.1721 - val_accuracy: 0.9574\n",
            "Epoch 51/100\n",
            "12/12 [==============================] - 0s 5ms/step - loss: 0.1448 - accuracy: 0.9659 - val_loss: 0.1703 - val_accuracy: 0.9628\n",
            "Epoch 52/100\n",
            "12/12 [==============================] - 0s 6ms/step - loss: 0.1428 - accuracy: 0.9659 - val_loss: 0.1686 - val_accuracy: 0.9628\n",
            "Epoch 53/100\n",
            "12/12 [==============================] - 0s 5ms/step - loss: 0.1409 - accuracy: 0.9659 - val_loss: 0.1669 - val_accuracy: 0.9628\n",
            "Epoch 54/100\n",
            "12/12 [==============================] - 0s 5ms/step - loss: 0.1390 - accuracy: 0.9659 - val_loss: 0.1653 - val_accuracy: 0.9628\n",
            "Epoch 55/100\n",
            "12/12 [==============================] - 0s 5ms/step - loss: 0.1372 - accuracy: 0.9659 - val_loss: 0.1638 - val_accuracy: 0.9628\n",
            "Epoch 56/100\n",
            "12/12 [==============================] - 0s 5ms/step - loss: 0.1354 - accuracy: 0.9685 - val_loss: 0.1623 - val_accuracy: 0.9628\n",
            "Epoch 57/100\n",
            "12/12 [==============================] - 0s 5ms/step - loss: 0.1338 - accuracy: 0.9685 - val_loss: 0.1608 - val_accuracy: 0.9628\n",
            "Epoch 58/100\n",
            "12/12 [==============================] - 0s 5ms/step - loss: 0.1321 - accuracy: 0.9685 - val_loss: 0.1595 - val_accuracy: 0.9628\n",
            "Epoch 59/100\n",
            "12/12 [==============================] - 0s 5ms/step - loss: 0.1305 - accuracy: 0.9738 - val_loss: 0.1581 - val_accuracy: 0.9628\n",
            "Epoch 60/100\n",
            "12/12 [==============================] - 0s 5ms/step - loss: 0.1290 - accuracy: 0.9738 - val_loss: 0.1568 - val_accuracy: 0.9628\n",
            "Epoch 61/100\n",
            "12/12 [==============================] - 0s 6ms/step - loss: 0.1275 - accuracy: 0.9738 - val_loss: 0.1556 - val_accuracy: 0.9628\n",
            "Epoch 62/100\n",
            "12/12 [==============================] - 0s 6ms/step - loss: 0.1261 - accuracy: 0.9738 - val_loss: 0.1543 - val_accuracy: 0.9628\n",
            "Epoch 63/100\n",
            "12/12 [==============================] - 0s 5ms/step - loss: 0.1247 - accuracy: 0.9738 - val_loss: 0.1531 - val_accuracy: 0.9628\n",
            "Epoch 64/100\n",
            "12/12 [==============================] - 0s 5ms/step - loss: 0.1234 - accuracy: 0.9738 - val_loss: 0.1520 - val_accuracy: 0.9628\n",
            "Epoch 65/100\n",
            "12/12 [==============================] - 0s 5ms/step - loss: 0.1220 - accuracy: 0.9738 - val_loss: 0.1509 - val_accuracy: 0.9628\n",
            "Epoch 66/100\n",
            "12/12 [==============================] - 0s 6ms/step - loss: 0.1208 - accuracy: 0.9764 - val_loss: 0.1499 - val_accuracy: 0.9628\n",
            "Epoch 67/100\n",
            "12/12 [==============================] - 0s 6ms/step - loss: 0.1195 - accuracy: 0.9764 - val_loss: 0.1489 - val_accuracy: 0.9628\n",
            "Epoch 68/100\n",
            "12/12 [==============================] - 0s 6ms/step - loss: 0.1183 - accuracy: 0.9764 - val_loss: 0.1478 - val_accuracy: 0.9628\n",
            "Epoch 69/100\n",
            "12/12 [==============================] - 0s 6ms/step - loss: 0.1172 - accuracy: 0.9764 - val_loss: 0.1468 - val_accuracy: 0.9628\n",
            "Epoch 70/100\n",
            "12/12 [==============================] - 0s 7ms/step - loss: 0.1161 - accuracy: 0.9764 - val_loss: 0.1458 - val_accuracy: 0.9628\n",
            "Epoch 71/100\n",
            "12/12 [==============================] - 0s 6ms/step - loss: 0.1149 - accuracy: 0.9764 - val_loss: 0.1449 - val_accuracy: 0.9628\n",
            "Epoch 72/100\n",
            "12/12 [==============================] - 0s 5ms/step - loss: 0.1138 - accuracy: 0.9764 - val_loss: 0.1440 - val_accuracy: 0.9628\n",
            "Epoch 73/100\n",
            "12/12 [==============================] - 0s 5ms/step - loss: 0.1128 - accuracy: 0.9764 - val_loss: 0.1432 - val_accuracy: 0.9628\n",
            "Epoch 74/100\n",
            "12/12 [==============================] - 0s 5ms/step - loss: 0.1117 - accuracy: 0.9764 - val_loss: 0.1424 - val_accuracy: 0.9628\n",
            "Epoch 75/100\n",
            "12/12 [==============================] - 0s 6ms/step - loss: 0.1107 - accuracy: 0.9764 - val_loss: 0.1415 - val_accuracy: 0.9628\n",
            "Epoch 76/100\n",
            "12/12 [==============================] - 0s 10ms/step - loss: 0.1098 - accuracy: 0.9764 - val_loss: 0.1407 - val_accuracy: 0.9628\n",
            "Epoch 77/100\n",
            "12/12 [==============================] - 0s 8ms/step - loss: 0.1088 - accuracy: 0.9764 - val_loss: 0.1399 - val_accuracy: 0.9628\n",
            "Epoch 78/100\n",
            "12/12 [==============================] - 0s 8ms/step - loss: 0.1079 - accuracy: 0.9764 - val_loss: 0.1392 - val_accuracy: 0.9628\n",
            "Epoch 79/100\n",
            "12/12 [==============================] - 0s 7ms/step - loss: 0.1070 - accuracy: 0.9764 - val_loss: 0.1385 - val_accuracy: 0.9628\n",
            "Epoch 80/100\n",
            "12/12 [==============================] - 0s 8ms/step - loss: 0.1061 - accuracy: 0.9764 - val_loss: 0.1377 - val_accuracy: 0.9628\n",
            "Epoch 81/100\n",
            "12/12 [==============================] - 0s 8ms/step - loss: 0.1052 - accuracy: 0.9764 - val_loss: 0.1370 - val_accuracy: 0.9628\n",
            "Epoch 82/100\n",
            "12/12 [==============================] - 0s 8ms/step - loss: 0.1044 - accuracy: 0.9764 - val_loss: 0.1364 - val_accuracy: 0.9628\n",
            "Epoch 83/100\n",
            "12/12 [==============================] - 0s 7ms/step - loss: 0.1035 - accuracy: 0.9764 - val_loss: 0.1357 - val_accuracy: 0.9628\n",
            "Epoch 84/100\n",
            "12/12 [==============================] - 0s 7ms/step - loss: 0.1027 - accuracy: 0.9764 - val_loss: 0.1351 - val_accuracy: 0.9628\n",
            "Epoch 85/100\n",
            "12/12 [==============================] - 0s 7ms/step - loss: 0.1020 - accuracy: 0.9764 - val_loss: 0.1344 - val_accuracy: 0.9681\n",
            "Epoch 86/100\n",
            "12/12 [==============================] - 0s 9ms/step - loss: 0.1012 - accuracy: 0.9790 - val_loss: 0.1338 - val_accuracy: 0.9681\n",
            "Epoch 87/100\n",
            "12/12 [==============================] - 0s 8ms/step - loss: 0.1004 - accuracy: 0.9790 - val_loss: 0.1332 - val_accuracy: 0.9681\n",
            "Epoch 88/100\n",
            "12/12 [==============================] - 0s 8ms/step - loss: 0.0997 - accuracy: 0.9816 - val_loss: 0.1326 - val_accuracy: 0.9681\n",
            "Epoch 89/100\n",
            "12/12 [==============================] - 0s 8ms/step - loss: 0.0989 - accuracy: 0.9816 - val_loss: 0.1321 - val_accuracy: 0.9681\n",
            "Epoch 90/100\n",
            "12/12 [==============================] - 0s 7ms/step - loss: 0.0982 - accuracy: 0.9816 - val_loss: 0.1315 - val_accuracy: 0.9734\n",
            "Epoch 91/100\n",
            "12/12 [==============================] - 0s 6ms/step - loss: 0.0975 - accuracy: 0.9816 - val_loss: 0.1310 - val_accuracy: 0.9734\n",
            "Epoch 92/100\n",
            "12/12 [==============================] - 0s 7ms/step - loss: 0.0968 - accuracy: 0.9816 - val_loss: 0.1304 - val_accuracy: 0.9787\n",
            "Epoch 93/100\n",
            "12/12 [==============================] - 0s 9ms/step - loss: 0.0962 - accuracy: 0.9816 - val_loss: 0.1300 - val_accuracy: 0.9787\n",
            "Epoch 94/100\n",
            "12/12 [==============================] - 0s 9ms/step - loss: 0.0955 - accuracy: 0.9816 - val_loss: 0.1294 - val_accuracy: 0.9787\n",
            "Epoch 95/100\n",
            "12/12 [==============================] - 0s 8ms/step - loss: 0.0948 - accuracy: 0.9816 - val_loss: 0.1289 - val_accuracy: 0.9734\n",
            "Epoch 96/100\n",
            "12/12 [==============================] - 0s 8ms/step - loss: 0.0942 - accuracy: 0.9816 - val_loss: 0.1284 - val_accuracy: 0.9787\n",
            "Epoch 97/100\n",
            "12/12 [==============================] - 0s 9ms/step - loss: 0.0936 - accuracy: 0.9816 - val_loss: 0.1279 - val_accuracy: 0.9787\n",
            "Epoch 98/100\n",
            "12/12 [==============================] - 0s 8ms/step - loss: 0.0930 - accuracy: 0.9816 - val_loss: 0.1275 - val_accuracy: 0.9787\n",
            "Epoch 99/100\n",
            "12/12 [==============================] - 0s 8ms/step - loss: 0.0924 - accuracy: 0.9816 - val_loss: 0.1270 - val_accuracy: 0.9787\n",
            "Epoch 100/100\n",
            "12/12 [==============================] - 0s 8ms/step - loss: 0.0918 - accuracy: 0.9816 - val_loss: 0.1266 - val_accuracy: 0.9787\n",
            "12/12 [==============================] - 0s 2ms/step - loss: 0.0915 - accuracy: 0.9816\n",
            "Train score:  [0.09145981818437576, 0.9816272854804993]\n",
            "6/6 [==============================] - 0s 3ms/step - loss: 0.1266 - accuracy: 0.9787\n",
            "Test score:  [0.12657155096530914, 0.978723406791687]\n"
          ]
        }
      ]
    },
    {
      "cell_type": "code",
      "source": [
        "import matplotlib.pyplot as plt"
      ],
      "metadata": {
        "id": "F_ELWjxRil9x"
      },
      "execution_count": 15,
      "outputs": []
    },
    {
      "cell_type": "code",
      "source": [
        "# loss plot\n",
        "plt.plot(r.history['loss'], label='loss')\n",
        "plt.plot(r.history['val_loss'], label='val_loss')\n",
        "plt.legend()\n",
        "plt.show()"
      ],
      "metadata": {
        "colab": {
          "base_uri": "https://localhost:8080/",
          "height": 430
        },
        "id": "oC0h58875YgM",
        "outputId": "ff31cda2-d7aa-4d29-d8c0-b279c12ae711"
      },
      "execution_count": 16,
      "outputs": [
        {
          "output_type": "display_data",
          "data": {
            "text/plain": [
              "<Figure size 640x480 with 1 Axes>"
            ],
            "image/png": "[encoded data removed]"
          },
          "metadata": {}
        }
      ]
    },
    {
      "cell_type": "code",
      "source": [
        "# accuracy plot\n",
        "plt.plot(r.history['accuracy'], label='accuracy')\n",
        "plt.plot(r.history['val_accuracy'], label='val_accuracy')\n",
        "plt.legend()\n",
        "plt.show()"
      ],
      "metadata": {
        "colab": {
          "base_uri": "https://localhost:8080/",
          "height": 430
        },
        "id": "TqE2smQJ5fZa",
        "outputId": "91951888-f691-4a43-d5cc-cb931f689462"
      },
      "execution_count": 17,
      "outputs": [
        {
          "output_type": "display_data",
          "data": {
            "text/plain": [
              "<Figure size 640x480 with 1 Axes>"
            ],
            "image/png": "[encoded data removed]"
          },
          "metadata": {}
        }
      ]
    },
    {
      "cell_type": "markdown",
      "source": [
        "## Part 2: Making Predictions"
      ],
      "metadata": {
        "id": "9C1uC2yk6i8Z"
      }
    },
    {
      "cell_type": "code",
      "source": [
        "# Make predictions\n",
        "p = model.predict(X_test)\n",
        "print(p) # they are outputs of the sigmoid, interpreted as probabilities p(y = 1 | x)"
      ],
      "metadata": {
        "colab": {
          "base_uri": "https://localhost:8080/"
        },
        "id": "3840Hunn6lPq",
        "outputId": "ddf85a7e-e14a-45cb-cf46-2d5fea37a579"
      },
      "execution_count": 18,
      "outputs": [
        {
          "output_type": "stream",
          "name": "stdout",
          "text": [
            "6/6 [==============================] - 0s 2ms/step\n",
            "[[9.4583946e-01]\n",
            " [8.7835014e-01]\n",
            " [1.6418249e-04]\n",
            " [4.5276567e-02]\n",
            " [9.9622798e-01]\n",
            " [1.3958864e-03]\n",
            " [9.8843056e-01]\n",
            " [8.9798731e-01]\n",
            " [1.7660936e-02]\n",
            " [1.9009273e-03]\n",
            " [2.2112264e-03]\n",
            " [9.8882836e-01]\n",
            " [9.8612833e-01]\n",
            " [9.4939667e-01]\n",
            " [7.6062471e-01]\n",
            " [8.4887490e-02]\n",
            " [7.1491492e-01]\n",
            " [9.8671579e-01]\n",
            " [9.8340023e-01]\n",
            " [5.9780438e-04]\n",
            " [1.7076739e-04]\n",
            " [2.1492144e-01]\n",
            " [9.1391605e-01]\n",
            " [7.5308526e-01]\n",
            " [9.9505377e-01]\n",
            " [8.9212853e-01]\n",
            " [7.1178980e-02]\n",
            " [9.8436242e-01]\n",
            " [9.9300092e-01]\n",
            " [1.4859872e-02]\n",
            " [3.1275168e-01]\n",
            " [9.9581552e-01]\n",
            " [9.7069520e-01]\n",
            " [2.2801796e-02]\n",
            " [9.5232755e-01]\n",
            " [9.1153431e-01]\n",
            " [9.9589574e-01]\n",
            " [9.8496896e-01]\n",
            " [2.4694626e-03]\n",
            " [2.5059056e-01]\n",
            " [2.0411061e-03]\n",
            " [9.7633839e-01]\n",
            " [1.1107915e-06]\n",
            " [9.3203684e-04]\n",
            " [9.8135763e-01]\n",
            " [9.9814099e-01]\n",
            " [2.6001607e-04]\n",
            " [8.6039811e-01]\n",
            " [7.7913737e-01]\n",
            " [8.1793219e-01]\n",
            " [3.0507860e-01]\n",
            " [1.4521734e-05]\n",
            " [9.7327489e-01]\n",
            " [9.9222481e-01]\n",
            " [3.4830341e-01]\n",
            " [1.0993871e-03]\n",
            " [9.8271763e-01]\n",
            " [4.6210811e-02]\n",
            " [9.9163502e-01]\n",
            " [9.8349351e-01]\n",
            " [7.8912157e-01]\n",
            " [9.9460554e-01]\n",
            " [5.0707482e-04]\n",
            " [9.9443102e-01]\n",
            " [2.3388591e-01]\n",
            " [9.7991484e-01]\n",
            " [4.9914899e-01]\n",
            " [9.9749207e-01]\n",
            " [9.7604555e-01]\n",
            " [3.7331600e-02]\n",
            " [9.9580073e-01]\n",
            " [9.9531865e-01]\n",
            " [1.0085861e-03]\n",
            " [9.7022617e-01]\n",
            " [2.3405678e-06]\n",
            " [9.5523834e-01]\n",
            " [9.9804449e-01]\n",
            " [9.9843889e-01]\n",
            " [1.9404232e-04]\n",
            " [9.7411710e-01]\n",
            " [1.9351743e-02]\n",
            " [2.1484565e-02]\n",
            " [9.1407287e-01]\n",
            " [9.9736118e-01]\n",
            " [4.9320920e-03]\n",
            " [9.9532878e-01]\n",
            " [1.9617314e-02]\n",
            " [9.9878031e-01]\n",
            " [9.2007242e-02]\n",
            " [9.2404032e-01]\n",
            " [8.8612521e-01]\n",
            " [9.9399751e-01]\n",
            " [8.3691330e-04]\n",
            " [6.5049845e-01]\n",
            " [5.9038229e-02]\n",
            " [9.4412017e-01]\n",
            " [1.7909509e-03]\n",
            " [9.9105835e-01]\n",
            " [2.7767379e-02]\n",
            " [4.4260713e-07]\n",
            " [1.6126516e-01]\n",
            " [1.1193264e-01]\n",
            " [7.0160204e-01]\n",
            " [7.9330140e-01]\n",
            " [2.8842064e-06]\n",
            " [9.8076957e-01]\n",
            " [1.6398473e-03]\n",
            " [9.9655962e-01]\n",
            " [1.1355975e-04]\n",
            " [8.5985816e-01]\n",
            " [8.8651115e-01]\n",
            " [9.6640301e-01]\n",
            " [3.4365410e-01]\n",
            " [3.0583818e-02]\n",
            " [6.7842938e-02]\n",
            " [9.5511472e-01]\n",
            " [9.9562883e-01]\n",
            " [9.5261484e-01]\n",
            " [9.9879694e-01]\n",
            " [9.8113197e-01]\n",
            " [8.2072420e-06]\n",
            " [1.7022185e-01]\n",
            " [5.7667658e-02]\n",
            " [9.9728549e-01]\n",
            " [9.8937017e-01]\n",
            " [9.2518991e-01]\n",
            " [1.0141444e-02]\n",
            " [9.5241165e-01]\n",
            " [8.2421517e-01]\n",
            " [9.5180142e-01]\n",
            " [9.7147083e-01]\n",
            " [9.8643321e-01]\n",
            " [8.6469853e-01]\n",
            " [9.9590158e-01]\n",
            " [7.5823957e-01]\n",
            " [2.8655499e-01]\n",
            " [9.8735261e-01]\n",
            " [8.6767405e-01]\n",
            " [2.4847494e-02]\n",
            " [8.7734365e-01]\n",
            " [9.3077576e-01]\n",
            " [9.6523547e-01]\n",
            " [8.6627299e-01]\n",
            " [8.5810059e-01]\n",
            " [6.5388717e-02]\n",
            " [7.6861125e-01]\n",
            " [1.9670911e-01]\n",
            " [9.0586370e-01]\n",
            " [9.7414237e-01]\n",
            " [9.8729706e-01]\n",
            " [6.3222897e-01]\n",
            " [9.9111271e-01]\n",
            " [1.0746149e-01]\n",
            " [9.6686190e-01]\n",
            " [9.8027211e-01]\n",
            " [1.4649019e-01]\n",
            " [4.8324281e-01]\n",
            " [7.4171376e-01]\n",
            " [9.3775249e-01]\n",
            " [9.9711978e-01]\n",
            " [9.5208037e-01]\n",
            " [3.4281795e-03]\n",
            " [6.8042785e-01]\n",
            " [1.4406155e-02]\n",
            " [9.8287714e-01]\n",
            " [9.8347872e-01]\n",
            " [9.3831539e-01]\n",
            " [9.8613489e-01]\n",
            " [9.8340023e-01]\n",
            " [9.8321235e-01]\n",
            " [9.7777444e-01]\n",
            " [9.9346715e-01]\n",
            " [9.8844403e-01]\n",
            " [9.9277109e-01]\n",
            " [3.5236294e-03]\n",
            " [1.4596480e-01]\n",
            " [4.7043510e-02]\n",
            " [1.2745491e-03]\n",
            " [9.6817023e-01]\n",
            " [9.2793554e-01]\n",
            " [4.9346957e-01]\n",
            " [1.7473207e-05]\n",
            " [9.5938337e-01]\n",
            " [2.2792681e-04]\n",
            " [5.7368994e-01]\n",
            " [9.8251259e-01]\n",
            " [3.8238843e-03]\n",
            " [9.5958942e-01]]\n"
          ]
        }
      ]
    },
    {
      "cell_type": "code",
      "source": [
        "# Round to get the actual predictions\n",
        "# Note: has to be flattened since the targets are size (N,) while the predictions are size (N,1)\n",
        "import numpy as np\n",
        "P = np.round(p).flatten()\n",
        "print(P)"
      ],
      "metadata": {
        "colab": {
          "base_uri": "https://localhost:8080/"
        },
        "id": "QF3EZVp86w06",
        "outputId": "bca28ce7-afc8-42ff-fa0c-20e4670e3d77"
      },
      "execution_count": 19,
      "outputs": [
        {
          "output_type": "stream",
          "name": "stdout",
          "text": [
            "[1. 1. 0. 0. 1. 0. 1. 1. 0. 0. 0. 1. 1. 1. 1. 0. 1. 1. 1. 0. 0. 0. 1. 1.\n",
            " 1. 1. 0. 1. 1. 0. 0. 1. 1. 0. 1. 1. 1. 1. 0. 0. 0. 1. 0. 0. 1. 1. 0. 1.\n",
            " 1. 1. 0. 0. 1. 1. 0. 0. 1. 0. 1. 1. 1. 1. 0. 1. 0. 1. 0. 1. 1. 0. 1. 1.\n",
            " 0. 1. 0. 1. 1. 1. 0. 1. 0. 0. 1. 1. 0. 1. 0. 1. 0. 1. 1. 1. 0. 1. 0. 1.\n",
            " 0. 1. 0. 0. 0. 0. 1. 1. 0. 1. 0. 1. 0. 1. 1. 1. 0. 0. 0. 1. 1. 1. 1. 1.\n",
            " 0. 0. 0. 1. 1. 1. 0. 1. 1. 1. 1. 1. 1. 1. 1. 0. 1. 1. 0. 1. 1. 1. 1. 1.\n",
            " 0. 1. 0. 1. 1. 1. 1. 1. 0. 1. 1. 0. 0. 1. 1. 1. 1. 0. 1. 0. 1. 1. 1. 1.\n",
            " 1. 1. 1. 1. 1. 1. 0. 0. 0. 0. 1. 1. 0. 0. 1. 0. 1. 1. 0. 1.]\n"
          ]
        }
      ]
    },
    {
      "cell_type": "code",
      "source": [
        "# manually calculate accuracy and compare it with evaluate() method\n",
        "print('Manually calculated accuracy: ', np.mean(y_test==P))\n",
        "print('Evaluate output: ', model.evaluate(X_test, y_test))"
      ],
      "metadata": {
        "colab": {
          "base_uri": "https://localhost:8080/"
        },
        "id": "MJ7LB4sfAFG7",
        "outputId": "966a8d1d-4ec6-4cdc-dceb-f7c3329197d3"
      },
      "execution_count": 21,
      "outputs": [
        {
          "output_type": "stream",
          "name": "stdout",
          "text": [
            "Manually calculated accuracy:  0.9787234042553191\n",
            "6/6 [==============================] - 0s 5ms/step - loss: 0.1266 - accuracy: 0.9787\n",
            "Evaluate output:  [0.12657155096530914, 0.978723406791687]\n"
          ]
        }
      ]
    },
    {
      "cell_type": "markdown",
      "source": [
        "## Part 3: Saving and loading the model"
      ],
      "metadata": {
        "id": "XPjgUDDHB9b0"
      }
    },
    {
      "cell_type": "code",
      "source": [
        "model.save('linearclassifier.h5') # legacy format\n",
        "model.save('linearclassifier.keras') # native keras format"
      ],
      "metadata": {
        "colab": {
          "base_uri": "https://localhost:8080/"
        },
        "id": "vX0G-Y_MB0Xs",
        "outputId": "1fe283fd-9709-40fc-9efd-98f24b93f763"
      },
      "execution_count": 23,
      "outputs": [
        {
          "output_type": "stream",
          "name": "stderr",
          "text": [
            "/usr/local/lib/python3.10/dist-packages/keras/src/engine/training.py:3103: UserWarning: You are saving your model as an HDF5 file via `model.save()`. This file format is considered legacy. We recommend using instead the native Keras format, e.g. `model.save('my_model.keras')`.\n",
            "  saving_api.save_model(\n"
          ]
        }
      ]
    },
    {
      "cell_type": "code",
      "source": [
        "# check that the model file exists\n",
        "!ls -lh"
      ],
      "metadata": {
        "colab": {
          "base_uri": "https://localhost:8080/"
        },
        "id": "FagV7VotCHfB",
        "outputId": "494396c3-5e53-4578-8cad-4c5a71fd37fb"
      },
      "execution_count": 24,
      "outputs": [
        {
          "output_type": "stream",
          "name": "stdout",
          "text": [
            "total 44K\n",
            "-rw-r--r-- 1 root root  20K Jan  7 04:20 linearclassifier.h5\n",
            "-rw-r--r-- 1 root root  17K Jan  7 04:20 linearclassifier.keras\n",
            "drwxr-xr-x 1 root root 4.0K Jan  4 14:21 sample_data\n"
          ]
        }
      ]
    },
    {
      "cell_type": "code",
      "source": [
        "# Let's load the model and confirm that it still works\n",
        "# Note: there is a bug in Keras where load/save only works if you DON'T use the Input() layer explicitly\n",
        "# So, make sure you define the model with ONLY Dense(1, input_shape=(D,))\n",
        "# At least, until the bug is fixed\n",
        "# https://github.com/keras-team/keras/issues/10417\n",
        "saved_model = tf.keras.models.load_model('linearclassifier.h5') # loading via hdfs\n",
        "print(saved_model.layers)\n",
        "saved_model.evaluate(X_test, y_test)"
      ],
      "metadata": {
        "colab": {
          "base_uri": "https://localhost:8080/"
        },
        "id": "qzIOIqNAChyH",
        "outputId": "d985058e-b203-41c6-9a03-203b3d7cfe5d"
      },
      "execution_count": 25,
      "outputs": [
        {
          "output_type": "stream",
          "name": "stdout",
          "text": [
            "[<keras.src.layers.core.dense.Dense object at 0x79c21c75f790>]\n",
            "6/6 [==============================] - 0s 4ms/step - loss: 0.1266 - accuracy: 0.9787\n"
          ]
        },
        {
          "output_type": "execute_result",
          "data": {
            "text/plain": [
              "[0.12657155096530914, 0.978723406791687]"
            ]
          },
          "metadata": {},
          "execution_count": 25
        }
      ]
    },
    {
      "cell_type": "code",
      "source": [
        "saved_model = tf.keras.models.load_model('linearclassifier.keras') # loading via keras\n",
        "print(saved_model.layers)\n",
        "saved_model.evaluate(X_test, y_test)"
      ],
      "metadata": {
        "colab": {
          "base_uri": "https://localhost:8080/"
        },
        "id": "VxLLPaaBClE0",
        "outputId": "b4354789-cbdd-4954-e9b5-d489e682c4cc"
      },
      "execution_count": 26,
      "outputs": [
        {
          "output_type": "stream",
          "name": "stdout",
          "text": [
            "[<keras.src.layers.core.dense.Dense object at 0x79c21c78b190>]\n",
            "6/6 [==============================] - 0s 3ms/step - loss: 0.1266 - accuracy: 0.9787\n"
          ]
        },
        {
          "output_type": "execute_result",
          "data": {
            "text/plain": [
              "[0.12657155096530914, 0.978723406791687]"
            ]
          },
          "metadata": {},
          "execution_count": 26
        }
      ]
    },
    {
      "cell_type": "code",
      "source": [
        "# Download the file - requires Chrome (at this point)\n",
        "from google.colab import files\n",
        "files.download('linearclassifier.h5')"
      ],
      "metadata": {
        "id": "C4EF03wTD42w"
      },
      "execution_count": null,
      "outputs": []
    }
  ]
}